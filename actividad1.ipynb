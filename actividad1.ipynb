{
 "cells": [
  {
   "cell_type": "code",
   "execution_count": 31,
   "id": "b5712762",
   "metadata": {},
   "outputs": [],
   "source": [
    "# Model design\n",
    "import agentpy as ap\n",
    "import random\n",
    "\n",
    "# Visualization\n",
    "import matplotlib.pyplot as plt\n",
    "import seaborn as sns\n",
    "import IPython\n",
    "\n",
    "#Global variable\n",
    "MOVES = [(1,0), (-1,0), (0,-1), (0,1)]"
   ]
  },
  {
   "cell_type": "code",
   "execution_count": 32,
   "id": "e8ff015b",
   "metadata": {},
   "outputs": [],
   "source": [
    "class MyModel(ap.Model):\n",
    "    def setup(self):\n",
    "        \n",
    "        #Create agents\n",
    "        trashAmount = 1000\n",
    "        \n",
    "        self.robot = ap.AgentList(self, self.p.agents)\n",
    "        #self.garbage = ap.AgentList(self, self.p.dirt_density * (self.p.M * self.p.N)) \n",
    "        self.garbage = ap.AgentList(self, trashAmount) \n",
    "        \n",
    "        #Create grid model\n",
    "        self.area = ap.Grid(self, [self.p.M, self.p.N], track_empty=True)\n",
    "        \n",
    "        #Add the agents to the enviroment\n",
    "        self.area.add_agents(self.robot, [(1,1)]*trashAmount)\n",
    "        self.area.add_agents(self.garbage, random=True, empty=True)\n",
    "        \n",
    "        #Initiate dynamic variable for agents\n",
    "        self.robot.condition = 0\n",
    "        self.garbage.condition = 1\n",
    "        \n",
    "                \n",
    "    def step(self):\n",
    "        robots = self.robot\n",
    "        for robot in robots:\n",
    "            for neighbor in self.area.neighbors(robot):\n",
    "                if neighbor.condition == 1:\n",
    "                    neighbor.condition = 2\n",
    "                    break;\n",
    "                else:\n",
    "                    self.area.move_by(robot, random.choice(MOVES))\n",
    "                    \n",
    "        #The experiment stops until there's no trash\n",
    "        if len(self.garbage.select(self.garbage.condition == 1)) == 0:\n",
    "            self.stop()\n",
    "        \n",
    "    def end(self):\n",
    "         # Document a measure at the end of the simulation\n",
    "        '''\n",
    "        cleaned_trash = len(self.trash.select(self.trash.condition == 2))\n",
    "        self.report('Percentage of cleaned trash', cleaned_trash / len(self.trash))\n",
    "        '''\n",
    "    \n",
    "    "
   ]
  },
  {
   "cell_type": "code",
   "execution_count": 33,
   "id": "1e204269",
   "metadata": {},
   "outputs": [],
   "source": [
    "#Parametros\n",
    "\n",
    "parameters = {\n",
    "    'M': 50,\n",
    "    'N': 40,\n",
    "    'agents': 1,\n",
    "    'dirt_density': 0.4,\n",
    "    'setps': 100\n",
    "}\n"
   ]
  },
  {
   "cell_type": "code",
   "execution_count": 34,
   "id": "512ad72d",
   "metadata": {},
   "outputs": [
    {
     "ename": "RuntimeError",
     "evalue": "Set changed size during iteration",
     "output_type": "error",
     "traceback": [
      "\u001b[1;31m---------------------------------------------------------------------------\u001b[0m",
      "\u001b[1;31mRuntimeError\u001b[0m                              Traceback (most recent call last)",
      "Cell \u001b[1;32mIn [34], line 15\u001b[0m\n\u001b[0;32m     11\u001b[0m model \u001b[38;5;241m=\u001b[39m MyModel(parameters)\n\u001b[0;32m     12\u001b[0m animation \u001b[38;5;241m=\u001b[39m ap\u001b[38;5;241m.\u001b[39manimate(model, fig, ax, animation_plot)\n\u001b[1;32m---> 15\u001b[0m IPython\u001b[38;5;241m.\u001b[39mdisplay\u001b[38;5;241m.\u001b[39mHTML(\u001b[43manimation\u001b[49m\u001b[38;5;241;43m.\u001b[39;49m\u001b[43mto_jshtml\u001b[49m\u001b[43m(\u001b[49m\u001b[43m)\u001b[49m)\n",
      "File \u001b[1;32m~\\AppData\\Local\\Programs\\Python\\Python310\\lib\\site-packages\\matplotlib\\animation.py:1329\u001b[0m, in \u001b[0;36mAnimation.to_jshtml\u001b[1;34m(self, fps, embed_frames, default_mode)\u001b[0m\n\u001b[0;32m   1325\u001b[0m         path \u001b[38;5;241m=\u001b[39m Path(tmpdir, \u001b[38;5;124m\"\u001b[39m\u001b[38;5;124mtemp.html\u001b[39m\u001b[38;5;124m\"\u001b[39m)\n\u001b[0;32m   1326\u001b[0m         writer \u001b[38;5;241m=\u001b[39m HTMLWriter(fps\u001b[38;5;241m=\u001b[39mfps,\n\u001b[0;32m   1327\u001b[0m                             embed_frames\u001b[38;5;241m=\u001b[39membed_frames,\n\u001b[0;32m   1328\u001b[0m                             default_mode\u001b[38;5;241m=\u001b[39mdefault_mode)\n\u001b[1;32m-> 1329\u001b[0m         \u001b[38;5;28;43mself\u001b[39;49m\u001b[38;5;241;43m.\u001b[39;49m\u001b[43msave\u001b[49m\u001b[43m(\u001b[49m\u001b[38;5;28;43mstr\u001b[39;49m\u001b[43m(\u001b[49m\u001b[43mpath\u001b[49m\u001b[43m)\u001b[49m\u001b[43m,\u001b[49m\u001b[43m \u001b[49m\u001b[43mwriter\u001b[49m\u001b[38;5;241;43m=\u001b[39;49m\u001b[43mwriter\u001b[49m\u001b[43m)\u001b[49m\n\u001b[0;32m   1330\u001b[0m         \u001b[38;5;28mself\u001b[39m\u001b[38;5;241m.\u001b[39m_html_representation \u001b[38;5;241m=\u001b[39m path\u001b[38;5;241m.\u001b[39mread_text()\n\u001b[0;32m   1332\u001b[0m \u001b[38;5;28;01mreturn\u001b[39;00m \u001b[38;5;28mself\u001b[39m\u001b[38;5;241m.\u001b[39m_html_representation\n",
      "File \u001b[1;32m~\\AppData\\Local\\Programs\\Python\\Python310\\lib\\site-packages\\matplotlib\\animation.py:1078\u001b[0m, in \u001b[0;36mAnimation.save\u001b[1;34m(self, filename, writer, fps, dpi, codec, bitrate, extra_args, metadata, extra_anim, savefig_kwargs, progress_callback)\u001b[0m\n\u001b[0;32m   1076\u001b[0m \u001b[38;5;28;01melse\u001b[39;00m:\n\u001b[0;32m   1077\u001b[0m     total_frames \u001b[38;5;241m=\u001b[39m \u001b[38;5;28msum\u001b[39m(save_count_list)\n\u001b[1;32m-> 1078\u001b[0m \u001b[38;5;28;01mfor\u001b[39;00m data \u001b[38;5;129;01min\u001b[39;00m \u001b[38;5;28mzip\u001b[39m(\u001b[38;5;241m*\u001b[39m[a\u001b[38;5;241m.\u001b[39mnew_saved_frame_seq() \u001b[38;5;28;01mfor\u001b[39;00m a \u001b[38;5;129;01min\u001b[39;00m all_anim]):\n\u001b[0;32m   1079\u001b[0m     \u001b[38;5;28;01mfor\u001b[39;00m anim, d \u001b[38;5;129;01min\u001b[39;00m \u001b[38;5;28mzip\u001b[39m(all_anim, data):\n\u001b[0;32m   1080\u001b[0m         \u001b[38;5;66;03m# TODO: See if turning off blit is really necessary\u001b[39;00m\n\u001b[0;32m   1081\u001b[0m         anim\u001b[38;5;241m.\u001b[39m_draw_next_frame(d, blit\u001b[38;5;241m=\u001b[39m\u001b[38;5;28;01mFalse\u001b[39;00m)\n",
      "File \u001b[1;32m~\\AppData\\Local\\Programs\\Python\\Python310\\lib\\site-packages\\agentpy\\visualization.py:73\u001b[0m, in \u001b[0;36manimate.<locals>.frames\u001b[1;34m()\u001b[0m\n\u001b[0;32m     71\u001b[0m     pre_steps \u001b[38;5;241m+\u001b[39m\u001b[38;5;241m=\u001b[39m \u001b[38;5;241m1\u001b[39m\n\u001b[0;32m     72\u001b[0m \u001b[38;5;28;01melse\u001b[39;00m:\n\u001b[1;32m---> 73\u001b[0m     \u001b[43mmodel\u001b[49m\u001b[38;5;241;43m.\u001b[39;49m\u001b[43msim_step\u001b[49m\u001b[43m(\u001b[49m\u001b[43m)\u001b[49m\n\u001b[0;32m     74\u001b[0m     model\u001b[38;5;241m.\u001b[39mcreate_output()\n\u001b[0;32m     75\u001b[0m \u001b[38;5;28;01myield\u001b[39;00m model\u001b[38;5;241m.\u001b[39mt\n",
      "File \u001b[1;32m~\\AppData\\Local\\Programs\\Python\\Python310\\lib\\site-packages\\agentpy\\model.py:327\u001b[0m, in \u001b[0;36mModel.sim_step\u001b[1;34m(self)\u001b[0m\n\u001b[0;32m    324\u001b[0m \u001b[38;5;124;03m\"\"\" Proceeds the simulation by one step, incrementing `Model.t` by 1\u001b[39;00m\n\u001b[0;32m    325\u001b[0m \u001b[38;5;124;03mand then calling :func:`Model.step` and :func:`Model.update`.\"\"\"\u001b[39;00m\n\u001b[0;32m    326\u001b[0m \u001b[38;5;28mself\u001b[39m\u001b[38;5;241m.\u001b[39mt \u001b[38;5;241m+\u001b[39m\u001b[38;5;241m=\u001b[39m \u001b[38;5;241m1\u001b[39m\n\u001b[1;32m--> 327\u001b[0m \u001b[38;5;28;43mself\u001b[39;49m\u001b[38;5;241;43m.\u001b[39;49m\u001b[43mstep\u001b[49m\u001b[43m(\u001b[49m\u001b[43m)\u001b[49m\n\u001b[0;32m    328\u001b[0m \u001b[38;5;28mself\u001b[39m\u001b[38;5;241m.\u001b[39mupdate()\n\u001b[0;32m    329\u001b[0m \u001b[38;5;28;01mif\u001b[39;00m \u001b[38;5;28mself\u001b[39m\u001b[38;5;241m.\u001b[39mt \u001b[38;5;241m>\u001b[39m\u001b[38;5;241m=\u001b[39m \u001b[38;5;28mself\u001b[39m\u001b[38;5;241m.\u001b[39m_steps:\n",
      "Cell \u001b[1;32mIn [32], line 26\u001b[0m, in \u001b[0;36mMyModel.step\u001b[1;34m(self)\u001b[0m\n\u001b[0;32m     24\u001b[0m robots \u001b[38;5;241m=\u001b[39m \u001b[38;5;28mself\u001b[39m\u001b[38;5;241m.\u001b[39mrobot\n\u001b[0;32m     25\u001b[0m \u001b[38;5;28;01mfor\u001b[39;00m robot \u001b[38;5;129;01min\u001b[39;00m robots:\n\u001b[1;32m---> 26\u001b[0m     \u001b[38;5;28;01mfor\u001b[39;00m neighbor \u001b[38;5;129;01min\u001b[39;00m \u001b[38;5;28mself\u001b[39m\u001b[38;5;241m.\u001b[39marea\u001b[38;5;241m.\u001b[39mneighbors(robot):\n\u001b[0;32m     27\u001b[0m         \u001b[38;5;28;01mif\u001b[39;00m neighbor\u001b[38;5;241m.\u001b[39mcondition \u001b[38;5;241m==\u001b[39m \u001b[38;5;241m1\u001b[39m:\n\u001b[0;32m     28\u001b[0m             neighbor\u001b[38;5;241m.\u001b[39mcondition \u001b[38;5;241m=\u001b[39m \u001b[38;5;241m2\u001b[39m\n",
      "\u001b[1;31mRuntimeError\u001b[0m: Set changed size during iteration"
     ]
    }
   ],
   "source": [
    "def animation_plot(model, ax):\n",
    "    attr_grid = model.area.attr_grid('condition')\n",
    "    color_dict = {0:'#7FC97F', 1:'#d62c2c', 2:'#e5e5e5', None:'#d5e5d5'}\n",
    "    ap.gridplot(attr_grid, ax=ax, color_dict=color_dict, convert=True)\n",
    "    ax.set_title(f\"Simulation of a forest fire\\n\"\n",
    "                  f\"Time-step: {model.t}, Trees left: \"\n",
    "                  f\"{len(model.garbage.select(model.garbage.condition == 0))}\")    \n",
    "\n",
    "    \n",
    "fig, ax = plt.subplots()\n",
    "model = MyModel(parameters)\n",
    "animation = ap.animate(model, fig, ax, animation_plot)\n",
    "\n",
    "\n",
    "IPython.display.HTML(animation.to_jshtml())\n"
   ]
  },
  {
   "cell_type": "code",
   "execution_count": null,
   "id": "bc19c247",
   "metadata": {},
   "outputs": [],
   "source": []
  },
  {
   "cell_type": "code",
   "execution_count": null,
   "id": "43714aa5",
   "metadata": {},
   "outputs": [],
   "source": []
  }
 ],
 "metadata": {
  "kernelspec": {
   "display_name": "Python 3 (ipykernel)",
   "language": "python",
   "name": "python3"
  },
  "language_info": {
   "codemirror_mode": {
    "name": "ipython",
    "version": 3
   },
   "file_extension": ".py",
   "mimetype": "text/x-python",
   "name": "python",
   "nbconvert_exporter": "python",
   "pygments_lexer": "ipython3",
   "version": "3.10.5"
  }
 },
 "nbformat": 4,
 "nbformat_minor": 5
}
